{
 "cells": [
  {
   "cell_type": "markdown",
   "metadata": {},
   "source": [
    "# Retirement Planning Tool\n",
    "\n",
    "This tool simulates a series of cashflows against historical market returns. \n",
    "\n",
    "This approach is a generalization of the approach behind the 4% rule. The 4% rule does not account for changes in your cashflow needs such as the start of Social Security, and assumes a 30 year timeframe. This tool allows you to choose your timeframe and models uneven cashflows. \n",
    "\n",
    "## Disclaimer\n",
    "\n",
    "The information in this repo is provided \"as is\" for general informational purposes only. We make no warranties regarding its accuracy or completeness. We are not liable for any losses or damages resulting from your use of or reliance on this information. Use at your own risk."
   ]
  },
  {
   "cell_type": "code",
   "execution_count": 1,
   "metadata": {},
   "outputs": [],
   "source": [
    "import numpy as np\n",
    "import xlrd\n",
    "\n",
    "def load_data():\n",
    "    book = book = xlrd.open_workbook(\"ie_data.xls\")\n",
    "    sheet = book.sheet_by_name(\"Data\")\n",
    "    dates = sheet.col_values(0) # Date\n",
    "    prices = sheet.col_values(9) # Real Total Return Price\n",
    "    assert len(dates) == 1853, len(dates)\n",
    "    assert len(prices) == 1853, len(dates)\n",
    "    return dates, prices\n",
    "\n",
    "dates, prices = load_data()\n"
   ]
  },
  {
   "cell_type": "code",
   "execution_count": 2,
   "metadata": {},
   "outputs": [
    {
     "name": "stdout",
     "output_type": "stream",
     "text": [
      "['', 'Stock Market Data Used in \"Irrational Exuberance\" Princeton University Press, 2000, 2005, 2015, updated', 'Robert J. Shiller ', '', '', '', '', 'Date', 1871.01, 1871.02]\n",
      "[2023.12, 2024.01, 2024.02, 2024.03, 2024.04, 2024.05, 2024.06, 2024.07, 2024.08, '']\n",
      "['', '', '', '', 'Real', 'Total', 'Return', 'Price', 111.94505242623511, 110.6262185217641]\n",
      "[3172216.258905917, 3246908.2759480295, 3362452.0564336954, 3450516.754294489, 3402471.1361407707, 3482336.4999193936, 3604784.4188651205, 3685951.498636391, 3624862.5632474283, '']\n",
      "1871.01 [2023.11, 2023.12, 2024.01, 2024.02, 2024.03, 2024.04, 2024.05, 2024.06, 2024.07, 2024.08]\n",
      "111.94505242623511 [3013110.7220989885, 3172216.258905917, 3246908.2759480295, 3362452.0564336954, 3450516.754294489, 3402471.1361407707, 3482336.4999193936, 3604784.4188651205, 3685951.498636391, 3624862.5632474283]\n",
      "Data consists of 1844 entries from 1871.01 to 2024.08\n"
     ]
    }
   ],
   "source": [
    "def etl(dates, prices):\n",
    "    \"\"\"Cleanse the data: Trim the headers and excess white space at the end.\"\"\"\n",
    "\n",
    "    print(dates[:10])\n",
    "    print(dates[-10:])\n",
    "\n",
    "    print(prices[:10])\n",
    "    print(prices[-10:])\n",
    "\n",
    "    dates = dates[8:-1]\n",
    "    prices = prices[8:-1]\n",
    "\n",
    "    print(dates[0], dates[-10:])\n",
    "    print(prices[0], prices[-10:])\n",
    "\n",
    "\n",
    "    N = len(dates)\n",
    "\n",
    "    print(\"Data consists of\", N, \"entries from\", dates[0], \"to\", dates[-1])\n",
    "\n",
    "    for idx, p in enumerate(prices):\n",
    "        try: \n",
    "            float(p)\n",
    "        except ValueError:\n",
    "            print(\"Error: \", idx, p)\n",
    "\n",
    "\n",
    "    dates = np.array(dates, dtype=np.float32)\n",
    "    prices = np.array(prices, dtype=np.float32)\n",
    "\n",
    "    return dates, prices\n",
    "\n",
    "dates, prices = etl(dates, prices)"
   ]
  },
  {
   "cell_type": "code",
   "execution_count": 4,
   "metadata": {},
   "outputs": [
    {
     "name": "stdout",
     "output_type": "stream",
     "text": [
      "0.0064776065\n",
      "0.040820498\n"
     ]
    }
   ],
   "source": [
    "def calculate_equity_returns(prices):\n",
    "    returns = [None] * (len(prices) - 1)\n",
    "    for i in range (1, len(prices)):\n",
    "        returns[i-1] = (prices[i] - prices[i-1]) / prices[i-1]\n",
    "    return returns\n",
    "\n",
    "equity_returns = calculate_equity_returns(prices)\n",
    "print(np.mean(equity_returns))\n",
    "print(np.std(equity_returns))"
   ]
  },
  {
   "cell_type": "code",
   "execution_count": 19,
   "metadata": {},
   "outputs": [],
   "source": [
    "def calculcate_portfolio_returns(equity_returns, annual_tips_returns=0.02, equity_ratio=0.5, tips_ratio=0.5):\n",
    "    \"\"\"Blend equities and bonds returns for a portfolio. Assumes regular rebalancing.\"\"\"\n",
    "    portfolio_returns = [None] * len(equity_returns)\n",
    "    for i in range(len(equity_returns)):\n",
    "        portfolio_returns[i] = equity_ratio * equity_returns[i] + tips_ratio * annual_tips_returns / 12.0\n",
    "    return portfolio_returns\n",
    "\n",
    "portfolio_returns = calculcate_portfolio_returns(equity_returns)"
   ]
  },
  {
   "cell_type": "code",
   "execution_count": 20,
   "metadata": {},
   "outputs": [
    {
     "name": "stdout",
     "output_type": "stream",
     "text": [
      "Test passed: success rate for 30 years of 4% rule is: 0.9560975609756097\n",
      "The bad retirement years are: [1929.03, 1929.04, 1929.05, 1929.06, 1929.07, 1929.08, 1929.09, 1929.1, 1930.04]\n",
      "The months of retirement are: [582, 582, 575, 564, 498, 452, 422, 513, 561]\n"
     ]
    }
   ],
   "source": [
    "def simulate(cashflows, dates, returns):\n",
    "    \"\"\"Simulate the value of a portfolio given historical prices and cashflows.\n",
    "\n",
    "    Args:\n",
    "        cashflows: list of cashflows. The zero index should be positive to represent your retirement funds.\n",
    "        historical_prices: list of historical equity prices from Schiller. \n",
    "    \"\"\"\n",
    "        \n",
    "    C = len(cashflows)\n",
    "    R = len(returns)\n",
    "\n",
    "    assert C > 1, \"Need at least two cashflows\"\n",
    "\n",
    "    num_sims = R - C + 1\n",
    "\n",
    "    assert num_sims > 0, f\"Cashflows must be less than returns. C={C}, R={R}\"\n",
    "\n",
    "    wins = 0\n",
    "    losses = 0\n",
    "    total = 0\n",
    "    bad_retirement_years = []\n",
    "    months_before_bankrupt = []\n",
    "    for i in range(num_sims):\n",
    "        portfolio = cashflows[0]\n",
    "        assert portfolio > 0, \"Initial portfolio must be positive\"\n",
    "\n",
    "        for c in range(1, C):\n",
    "            portfolio += cashflows[c] # Spend that money.\n",
    "            portfolio *= (1 + returns[i+c-1]) # Get a return on that money.\n",
    "            if portfolio < 0:\n",
    "                losses += 1\n",
    "                total +=1\n",
    "                bad_retirement_years.append(dates[i])\n",
    "                months_before_bankrupt.append(c)\n",
    "                break\n",
    "        else: # no break\n",
    "            wins += 1\n",
    "            total += 1\n",
    "\n",
    "    return wins, losses, total, bad_retirement_years, months_before_bankrupt\n",
    "\n",
    "def test_simulate():\n",
    "    # global: dates\n",
    "    # global: portfolio_returns\n",
    "\n",
    "    # Arrange\n",
    "    dates_slice = dates[660:1465] # 1926 through 1992, like the original study\n",
    "    returns_slice = portfolio_returns[660:1465] \n",
    "    savings = 100.0\n",
    "    spend = -savings * 0.04 / 12 # Spend 4% annual or 0.33% monthly in real terms. \n",
    "    num_periods = 50 * 12 # The original paper modeld 50 years. \n",
    "    cashflows = [savings] + [spend] * num_periods\n",
    "\n",
    "    # Act\n",
    "    wins, losses, total, bad_retirement_years, months_before_bankrupt = simulate(cashflows, dates_slice, returns_slice)\n",
    "\n",
    "    # Assert\n",
    "    assert wins + losses == total\n",
    "    assert 0.7 < wins / total <= 1.0, f\"{wins} / {total} = {wins / total}\"\n",
    "\n",
    "    print(\"Test passed: success rate for 30 years of 4% rule is:\", wins / total)\n",
    "    print(\"The bad retirement years are:\", bad_retirement_years)\n",
    "    print(\"The months of retirement are:\", months_before_bankrupt)\n",
    "\n",
    "    # note that we do not find that a retiree would run out of money if retiring in 1969\n",
    "    # despite a terrible sequence of returns in the 1970s becuase the US now offers\n",
    "    # TIPS, which would not lose money. A regulatory / governance risk for your\n",
    "    # retirement planning is if the US Govt eliminiates TIPS, or more likely, fudges\n",
    "    # the calculation of inflation that TIPS are based on.\n",
    "\n",
    "test_simulate()"
   ]
  },
  {
   "cell_type": "code",
   "execution_count": null,
   "metadata": {},
   "outputs": [],
   "source": []
  }
 ],
 "metadata": {
  "kernelspec": {
   "display_name": "p311",
   "language": "python",
   "name": "python3"
  },
  "language_info": {
   "codemirror_mode": {
    "name": "ipython",
    "version": 3
   },
   "file_extension": ".py",
   "mimetype": "text/x-python",
   "name": "python",
   "nbconvert_exporter": "python",
   "pygments_lexer": "ipython3",
   "version": "3.11.5"
  }
 },
 "nbformat": 4,
 "nbformat_minor": 2
}
