{
 "cells": [
  {
   "cell_type": "markdown",
   "metadata": {},
   "source": [
    "# Retirement Planning Tool\n",
    "\n",
    "This tool simulates a series of cashflows against historical market returns. \n",
    "\n",
    "This approach is a generalization of the approach behind the 4% rule. The 4% rule does not account for changes in your cashflow needs such as the start of Social Security, and assumes a 30 year timeframe. This tool allows you to choose your timeframe and models uneven cashflows. \n",
    "\n",
    "## Disclaimer\n",
    "\n",
    "The information in this repo is provided \"as is\" for general informational purposes only. We make no warranties regarding its accuracy or completeness. We are not liable for any losses or damages resulting from your use of or reliance on this information. Use at your own risk."
   ]
  },
  {
   "cell_type": "code",
   "execution_count": 1,
   "metadata": {},
   "outputs": [],
   "source": [
    "import numpy as np\n",
    "import xlrd\n",
    "\n",
    "def load_data():\n",
    "    book = book = xlrd.open_workbook(\"ie_data.xls\")\n",
    "    sheet = book.sheet_by_name(\"Data\")\n",
    "    dates = sheet.col_values(0) # Date\n",
    "    prices = sheet.col_values(9) # Real Total Return Price\n",
    "    assert len(dates) == 1853, len(dates)\n",
    "    assert len(prices) == 1853, len(dates)\n",
    "    return dates, prices\n",
    "\n",
    "dates, prices = load_data()\n"
   ]
  },
  {
   "cell_type": "code",
   "execution_count": 2,
   "metadata": {},
   "outputs": [
    {
     "name": "stdout",
     "output_type": "stream",
     "text": [
      "['', 'Stock Market Data Used in \"Irrational Exuberance\" Princeton University Press, 2000, 2005, 2015, updated', 'Robert J. Shiller ', '', '', '', '', 'Date', 1871.01, 1871.02]\n",
      "[2023.12, 2024.01, 2024.02, 2024.03, 2024.04, 2024.05, 2024.06, 2024.07, 2024.08, '']\n",
      "['', '', '', '', 'Real', 'Total', 'Return', 'Price', 111.94505242623511, 110.6262185217641]\n",
      "[3172216.258905917, 3246908.2759480295, 3362452.0564336954, 3450516.754294489, 3402471.1361407707, 3482336.4999193936, 3604784.4188651205, 3685951.498636391, 3624862.5632474283, '']\n",
      "1871.01 [2023.11, 2023.12, 2024.01, 2024.02, 2024.03, 2024.04, 2024.05, 2024.06, 2024.07, 2024.08]\n",
      "111.94505242623511 [3013110.7220989885, 3172216.258905917, 3246908.2759480295, 3362452.0564336954, 3450516.754294489, 3402471.1361407707, 3482336.4999193936, 3604784.4188651205, 3685951.498636391, 3624862.5632474283]\n",
      "Data consists of 1844 entries from 1871.01 to 2024.08\n"
     ]
    }
   ],
   "source": [
    "def etl(dates, prices):\n",
    "    \"\"\"Cleanse the data: Trim the headers and excess white space at the end.\"\"\"\n",
    "\n",
    "    print(dates[:10])\n",
    "    print(dates[-10:])\n",
    "\n",
    "    print(prices[:10])\n",
    "    print(prices[-10:])\n",
    "\n",
    "    dates = dates[8:-1]\n",
    "    prices = prices[8:-1]\n",
    "\n",
    "    print(dates[0], dates[-10:])\n",
    "    print(prices[0], prices[-10:])\n",
    "\n",
    "\n",
    "    N = len(dates)\n",
    "\n",
    "    print(\"Data consists of\", N, \"entries from\", dates[0], \"to\", dates[-1])\n",
    "\n",
    "    for idx, p in enumerate(prices):\n",
    "        try: \n",
    "            float(p)\n",
    "        except ValueError:\n",
    "            print(\"Error: \", idx, p)\n",
    "\n",
    "\n",
    "    dates = np.array(dates, dtype=np.float32)\n",
    "    prices = np.array(prices, dtype=np.float32)\n",
    "\n",
    "    return dates, prices\n",
    "\n",
    "dates, prices = etl(dates, prices)"
   ]
  },
  {
   "cell_type": "code",
   "execution_count": 4,
   "metadata": {},
   "outputs": [
    {
     "name": "stdout",
     "output_type": "stream",
     "text": [
      "0.0064776065\n",
      "0.040820498\n"
     ]
    }
   ],
   "source": [
    "def calculate_equity_returns(prices):\n",
    "    returns = [None] * (len(prices) - 1)\n",
    "    for i in range (1, len(prices)):\n",
    "        returns[i-1] = (prices[i] - prices[i-1]) / prices[i-1]\n",
    "    return returns\n",
    "\n",
    "equity_returns = calculate_equity_returns(prices)\n",
    "print(np.mean(equity_returns))\n",
    "print(np.std(equity_returns))"
   ]
  },
  {
   "cell_type": "code",
   "execution_count": 26,
   "metadata": {},
   "outputs": [],
   "source": [
    "def calculcate_portfolio_returns(equity_returns, annual_tips_returns=0.02, equity_ratio=0.75, tips_ratio=0.25, tax_rate = 0.25):\n",
    "    \"\"\"Blend equities and bonds returns for a portfolio. Assumes regular rebalancing.\n",
    "    \n",
    "    Args:\n",
    "        equity_returns: list of equity returns\n",
    "        annual_tips_returns: annual TIPS returns\n",
    "        equity_ratio: ratio of equities in the portfolio\n",
    "        tips_ratio: ratio of TIPS in the portfolio\n",
    "        tax_rate: blended tax rate assuming some taxable div & cap gains, and some in a tax protected IRA.\n",
    "    \"\"\"\n",
    "    portfolio_returns = [None] * len(equity_returns)\n",
    "    for i in range(len(equity_returns)):\n",
    "        pretax_return = equity_ratio * equity_returns[i] + tips_ratio * annual_tips_returns / 12.0\n",
    "        portfolio_returns[i] = (1 - tax_rate) * pretax_return\n",
    "    return portfolio_returns\n",
    "\n",
    "portfolio_returns = calculcate_portfolio_returns(equity_returns)"
   ]
  },
  {
   "cell_type": "code",
   "execution_count": 30,
   "metadata": {},
   "outputs": [
    {
     "name": "stdout",
     "output_type": "stream",
     "text": [
      "Test passed: success rate for 30 years of 4% rule is: 0.9955056179775281 with 445 trials.\n",
      "The bad retirement years are: [1929.08, 1929.09]\n",
      "The months of retirement are: [350, 331]\n"
     ]
    }
   ],
   "source": [
    "def simulate(cashflows, dates, returns):\n",
    "    \"\"\"Simulate the value of a portfolio given historical prices and cashflows.\n",
    "\n",
    "    Args:\n",
    "        cashflows: list of cashflows. The zero index should be positive to represent your retirement funds.\n",
    "        historical_prices: list of historical equity prices from Schiller. \n",
    "    \"\"\"\n",
    "        \n",
    "    C = len(cashflows)\n",
    "    R = len(returns)\n",
    "\n",
    "    assert C > 1, \"Need at least two cashflows\"\n",
    "\n",
    "    num_sims = R - C + 1\n",
    "\n",
    "    assert num_sims > 0, f\"Cashflows must be less than returns. C={C}, R={R}\"\n",
    "\n",
    "    wins = 0\n",
    "    losses = 0\n",
    "    total = 0\n",
    "    bad_retirement_years = []\n",
    "    months_before_bankrupt = []\n",
    "    for i in range(num_sims):\n",
    "        portfolio = cashflows[0]\n",
    "        assert portfolio > 0, \"Initial portfolio must be positive\"\n",
    "\n",
    "        for c in range(1, C):\n",
    "            portfolio += cashflows[c] # Spend that money.\n",
    "            portfolio *= (1 + returns[i+c-1]) # Get a return on that money.\n",
    "            if portfolio < 0:\n",
    "                losses += 1\n",
    "                total +=1\n",
    "                bad_retirement_years.append(dates[i])\n",
    "                months_before_bankrupt.append(c)\n",
    "                break\n",
    "        else: # no break\n",
    "            wins += 1\n",
    "            total += 1\n",
    "\n",
    "    return wins, losses, total, bad_retirement_years, months_before_bankrupt\n",
    "\n",
    "def test_simulate():\n",
    "    \"\"\"Test against most of the parameters of the original 4% rule study. \n",
    "\n",
    "    Note that we do not find that a retiree would run out of money if retiring in 1969\n",
    "    despite a terrible sequence of returns in the 1970s becuase the US now offers\n",
    "    TIPS, which would not have lost money. A regulatory / governance risk for your\n",
    "    retirement planning is if the US Govt eliminiates TIPS, or more likely, fudges\n",
    "    the calculation of inflation that TIPS are based on.\n",
    "\n",
    "    We also calculate monthly returns instead of annual returns, since\n",
    "    Shiller now provides monthly returns. \n",
    "    \"\"\"\n",
    "\n",
    "    # global: dates\n",
    "    # global: portfolio_returns\n",
    "\n",
    "    # Arrange\n",
    "    dates_slice = dates[660:1465] # 1926 through 1992, like the original study\n",
    "    returns_slice = portfolio_returns[660:1465] \n",
    "    savings = 100.0\n",
    "    spend = -savings * 0.04 / 12 # Spend 4% annual or 0.33% monthly in real terms. \n",
    "    num_periods = 30 * 12 # The original paper modeled 50 years, finding there were always 30 years of cashflow. \n",
    "    cashflows = [savings] + [spend] * num_periods\n",
    "\n",
    "    # Act\n",
    "    wins, losses, total, bad_retirement_years, months_before_bankrupt = simulate(cashflows, dates_slice, returns_slice)\n",
    "\n",
    "    # Assert\n",
    "    assert wins + losses == total\n",
    "    assert wins / total > 0.99, f\"{wins} / {total} = {wins / total}\"\n",
    "\n",
    "    print(\"Test passed: success rate for 30 years of 4% rule is:\", wins / total, \"with\", total, \"trials.\")\n",
    "    print(\"The bad retirement years are:\", bad_retirement_years)\n",
    "    print(\"The months of retirement are:\", months_before_bankrupt)\n",
    "\n",
    "\n",
    "test_simulate()"
   ]
  },
  {
   "cell_type": "code",
   "execution_count": 40,
   "metadata": {},
   "outputs": [
    {
     "name": "stdout",
     "output_type": "stream",
     "text": [
      "Test passed: success rate for 50 years of 4% rule is: 0.7626709573612228 with 1243 trials.\n",
      "The bad retirement years are: [1886.11, 1899.01, 1899.02, 1899.03, 1899.04, 1899.05, 1899.08, 1900.12, 1901.01, 1901.02, 1901.03, 1901.04, 1901.05, 1901.06, 1901.07, 1901.08, 1901.09, 1901.1, 1901.11, 1901.12, 1902.01, 1902.02, 1902.03, 1902.04, 1902.05, 1902.06, 1902.07, 1902.08, 1902.09, 1902.1, 1902.11, 1902.12, 1903.01, 1903.02, 1903.03, 1903.04, 1903.05, 1904.1, 1904.11, 1904.12, 1905.01, 1905.02, 1905.03, 1905.04, 1905.05, 1905.06, 1905.07, 1905.08, 1905.09, 1905.1, 1905.11, 1905.12, 1906.01, 1906.02, 1906.03, 1906.04, 1906.05, 1906.06, 1906.07, 1906.08, 1906.09, 1906.1, 1906.11, 1906.12, 1907.01, 1907.02, 1907.03, 1907.04, 1908.08, 1908.09, 1908.1, 1908.11, 1908.12, 1909.01, 1909.02, 1909.03, 1909.04, 1909.05, 1909.06, 1909.07, 1909.08, 1909.09, 1909.1, 1909.11, 1909.12, 1910.01, 1910.02, 1910.03, 1910.04, 1910.05, 1910.1, 1910.11, 1910.12, 1911.01, 1911.02, 1911.03, 1911.04, 1911.05, 1911.06, 1911.07, 1911.08, 1911.09, 1911.1, 1911.11, 1911.12, 1912.01, 1912.02, 1912.03, 1912.04, 1912.05, 1912.06, 1912.07, 1912.08, 1912.09, 1912.1, 1912.11, 1912.12, 1913.01, 1928.11, 1928.12, 1929.01, 1929.02, 1929.03, 1929.04, 1929.05, 1929.06, 1929.07, 1929.08, 1929.09, 1929.1, 1930.01, 1930.02, 1930.03, 1930.04, 1930.05, 1930.06, 1930.07, 1930.08, 1936.1, 1936.11, 1936.12, 1937.01, 1937.02, 1937.03, 1959.01, 1959.03, 1959.04, 1959.05, 1959.06, 1959.07, 1959.08, 1959.09, 1959.1, 1959.11, 1959.12, 1960.01, 1961.01, 1961.02, 1961.03, 1961.04, 1961.05, 1961.06, 1961.07, 1961.08, 1961.09, 1961.1, 1961.11, 1961.12, 1962.01, 1962.02, 1962.03, 1962.04, 1962.05, 1962.12, 1963.01, 1963.02, 1963.03, 1963.04, 1963.05, 1963.06, 1963.07, 1963.08, 1963.09, 1963.1, 1963.11, 1963.12, 1964.01, 1964.02, 1964.03, 1964.04, 1964.05, 1964.06, 1964.07, 1964.08, 1964.09, 1964.1, 1964.11, 1964.12, 1965.01, 1965.02, 1965.03, 1965.04, 1965.05, 1965.06, 1965.07, 1965.08, 1965.09, 1965.1, 1965.11, 1965.12, 1966.01, 1966.02, 1966.03, 1966.04, 1966.05, 1966.06, 1966.07, 1966.08, 1966.09, 1966.1, 1966.11, 1966.12, 1967.01, 1967.02, 1967.03, 1967.04, 1967.05, 1967.06, 1967.07, 1967.08, 1967.09, 1967.1, 1967.11, 1967.12, 1968.01, 1968.02, 1968.03, 1968.04, 1968.05, 1968.06, 1968.07, 1968.08, 1968.09, 1968.1, 1968.11, 1968.12, 1969.01, 1969.02, 1969.03, 1969.04, 1969.05, 1969.06, 1969.07, 1969.08, 1969.09, 1969.1, 1969.11, 1969.12, 1970.01, 1970.02, 1970.03, 1970.04, 1970.12, 1971.01, 1971.02, 1971.03, 1971.04, 1971.05, 1971.06, 1971.07, 1971.08, 1971.09, 1971.1, 1971.11, 1971.12, 1972.01, 1972.02, 1972.03, 1972.04, 1972.05, 1972.06, 1972.07, 1972.08, 1972.09, 1972.1, 1972.11, 1972.12, 1973.01, 1973.02, 1973.03, 1973.04, 1973.05, 1973.06, 1973.07, 1973.1]\n",
      "The months of retirement are: [579, 562, 555, 544, 546, 586, 593, 584, 571, 539, 512, 452, 485, 425, 476, 475, 486, 492, 487, 505, 484, 480, 479, 467, 476, 485, 473, 451, 457, 520, 526, 553, 524, 529, 534, 568, 565, 563, 537, 531, 516, 485, 460, 468, 496, 487, 467, 452, 445, 439, 447, 441, 424, 428, 440, 447, 470, 462, 458, 431, 423, 449, 443, 455, 467, 503, 591, 584, 568, 585, 584, 521, 511, 500, 535, 523, 503, 487, 482, 474, 466, 471, 481, 491, 490, 499, 532, 527, 571, 569, 526, 508, 536, 512, 473, 489, 468, 455, 444, 452, 509, 597, 588, 519, 504, 513, 536, 526, 526, 528, 516, 515, 502, 507, 510, 524, 560, 591, 554, 547, 477, 473, 453, 454, 448, 437, 382, 350, 331, 394, 591, 531, 490, 440, 490, 581, 590, 597, 595, 570, 587, 566, 544, 550, 589, 578, 567, 554, 567, 535, 542, 587, 592, 590, 560, 576, 580, 545, 519, 500, 493, 504, 513, 484, 494, 487, 451, 445, 478, 469, 470, 497, 563, 577, 548, 538, 545, 506, 492, 496, 511, 491, 473, 475, 479, 468, 448, 439, 426, 416, 411, 418, 397, 405, 397, 388, 386, 397, 383, 380, 382, 377, 371, 402, 404, 392, 374, 366, 362, 366, 358, 365, 390, 376, 413, 422, 426, 471, 499, 510, 474, 471, 446, 426, 414, 405, 395, 407, 398, 390, 384, 388, 412, 396, 403, 432, 447, 405, 394, 380, 387, 403, 386, 374, 367, 363, 393, 400, 417, 409, 394, 428, 463, 471, 471, 468, 468, 506, 516, 554, 544, 587, 579, 541, 510, 494, 474, 487, 507, 516, 537, 518, 541, 598, 530, 496, 488, 475, 471, 480, 480, 490, 469, 481, 484, 455, 445, 443, 469, 488, 511, 546, 584, 576, 573]\n"
     ]
    }
   ],
   "source": [
    "def test_simulate2():\n",
    "    \"\"\"Test a 5% rule against all equity data for a 50 year retirement.\n",
    "\n",
    "    Only 75% of the time will the retiree not run out of money.\n",
    "\n",
    "    Note that a 3% rule would have a 100% success rate. \n",
    "    \"\"\"\n",
    "\n",
    "    # global: dates\n",
    "    # global: portfolio_returns\n",
    "\n",
    "    # Arrange\n",
    "    dates_slice = dates\n",
    "    returns_slice = portfolio_returns\n",
    "    savings = 100.0\n",
    "    spend = -savings * 0.04 / 12 # Spend 4% annual or 0.33% monthly in real terms. \n",
    "    num_periods = 50 * 12 # We want to retire at 55 and live to 105!\n",
    "    cashflows = [savings] + [spend] * num_periods\n",
    "\n",
    "    # Act\n",
    "    wins, losses, total, bad_retirement_years, months_before_bankrupt = simulate(cashflows, dates_slice, returns_slice)\n",
    "\n",
    "    # Assert\n",
    "    assert wins + losses == total\n",
    "    assert 0.7 < wins / total <= 1.0, f\"{wins} / {total} = {wins / total}\"\n",
    "\n",
    "    print(\"Test passed: success rate for 50 years of 4% rule is:\", wins / total, \"with\", total, \"trials.\")\n",
    "    print(\"The bad retirement years are:\", bad_retirement_years)\n",
    "    print(\"The months of retirement are:\", months_before_bankrupt)\n",
    "\n",
    "\n",
    "test_simulate2()"
   ]
  },
  {
   "cell_type": "code",
   "execution_count": null,
   "metadata": {},
   "outputs": [],
   "source": []
  }
 ],
 "metadata": {
  "kernelspec": {
   "display_name": "p311",
   "language": "python",
   "name": "python3"
  },
  "language_info": {
   "codemirror_mode": {
    "name": "ipython",
    "version": 3
   },
   "file_extension": ".py",
   "mimetype": "text/x-python",
   "name": "python",
   "nbconvert_exporter": "python",
   "pygments_lexer": "ipython3",
   "version": "3.11.5"
  }
 },
 "nbformat": 4,
 "nbformat_minor": 2
}
